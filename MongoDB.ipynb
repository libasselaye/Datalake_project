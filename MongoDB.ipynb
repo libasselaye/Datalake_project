{
 "cells": [
  {
   "cell_type": "code",
   "execution_count": null,
   "id": "76a9608f",
   "metadata": {},
   "outputs": [],
   "source": [
    "!pip install pymongo"
   ]
  },
  {
   "cell_type": "code",
   "execution_count": 23,
   "id": "098a5879",
   "metadata": {},
   "outputs": [],
   "source": [
    "import datetime\n",
    "from pprint import pprint\n",
    "\n",
    "import os\n",
    "\n",
    "import pymongo\n",
    "from pymongo import MongoClient"
   ]
  },
  {
   "cell_type": "code",
   "execution_count": 6,
   "id": "c1a5f700",
   "metadata": {},
   "outputs": [],
   "source": [
    "client = MongoClient('localhost', 27017)"
   ]
  },
  {
   "cell_type": "code",
   "execution_count": 7,
   "id": "360dc235",
   "metadata": {},
   "outputs": [
    {
     "name": "stdout",
     "output_type": "stream",
     "text": [
      "MongoClient(host=['localhost:27017'], document_class=dict, tz_aware=False, connect=True)\n"
     ]
    }
   ],
   "source": [
    "# Cet objet nous permet d'acceder à nos bases de données\n",
    "print(client)"
   ]
  },
  {
   "cell_type": "code",
   "execution_count": 8,
   "id": "9ac41b7d",
   "metadata": {},
   "outputs": [
    {
     "data": {
      "text/plain": [
       "Database(MongoClient(host=['localhost:27017'], document_class=dict, tz_aware=False, connect=True), 'test_database')"
      ]
     },
     "execution_count": 8,
     "metadata": {},
     "output_type": "execute_result"
    }
   ],
   "source": [
    "# Connexion à la base de données teste\n",
    "client.test_database"
   ]
  },
  {
   "cell_type": "code",
   "execution_count": 9,
   "id": "2f31df98",
   "metadata": {},
   "outputs": [],
   "source": [
    "# let's work in a test_database\n",
    "db = client.test_database\n",
    "# Document post\n",
    "posts = db.posts"
   ]
  },
  {
   "cell_type": "code",
   "execution_count": 14,
   "id": "60c52d22",
   "metadata": {},
   "outputs": [
    {
     "data": {
      "text/plain": [
       "ObjectId('624ccd23c6f7dd83f68e4c25')"
      ]
     },
     "execution_count": 14,
     "metadata": {},
     "output_type": "execute_result"
    }
   ],
   "source": [
    "post = {\n",
    "    \"author\": \"M2DM\",\n",
    "    \"text\": \"Metadonnee Stockage\",\n",
    "    \"tags\": [\"mongodb\", \"python\", \"pymongo\"],\n",
    "    \"date\": datetime.datetime.utcnow()\n",
    "}\n",
    "post_id = posts.insert_one(post).inserted_id\n",
    "post_id"
   ]
  },
  {
   "cell_type": "code",
   "execution_count": 15,
   "id": "581485bf",
   "metadata": {},
   "outputs": [
    {
     "data": {
      "text/plain": [
       "['posts']"
      ]
     },
     "execution_count": 15,
     "metadata": {},
     "output_type": "execute_result"
    }
   ],
   "source": [
    "# Affichage de la liste des collections de notre base\n",
    "db.list_collection_names()"
   ]
  },
  {
   "cell_type": "code",
   "execution_count": 16,
   "id": "40c16dda",
   "metadata": {},
   "outputs": [
    {
     "name": "stdout",
     "output_type": "stream",
     "text": [
      "{'_id': ObjectId('624ccd23c6f7dd83f68e4c25'),\n",
      " 'author': 'M2DM',\n",
      " 'date': datetime.datetime(2022, 4, 5, 23, 13, 39, 491000),\n",
      " 'tags': ['mongodb', 'python', 'pymongo'],\n",
      " 'text': 'Metadonnee Stockage'}\n"
     ]
    }
   ],
   "source": [
    "pprint(posts.find_one())"
   ]
  },
  {
   "cell_type": "code",
   "execution_count": 19,
   "id": "4365f351",
   "metadata": {},
   "outputs": [
    {
     "data": {
      "text/plain": [
       "ObjectId('624ccf4fc6f7dd83f68e4c26')"
      ]
     },
     "execution_count": 19,
     "metadata": {},
     "output_type": "execute_result"
    }
   ],
   "source": [
    "db.test.insert_one({'msg': 'hello'}).inserted_id"
   ]
  },
  {
   "cell_type": "code",
   "execution_count": 20,
   "id": "3bddcb09",
   "metadata": {},
   "outputs": [
    {
     "name": "stdout",
     "output_type": "stream",
     "text": [
      "{'_id': ObjectId('624ccf4fc6f7dd83f68e4c26'), 'msg': 'hello'}\n"
     ]
    }
   ],
   "source": [
    "# Affichage des document de la collections test\n",
    "msg = db.test.find_one({})\n",
    "print(msg)"
   ]
  },
  {
   "cell_type": "code",
   "execution_count": 21,
   "id": "be0515bc",
   "metadata": {},
   "outputs": [
    {
     "data": {
      "text/plain": [
       "1"
      ]
     },
     "execution_count": 21,
     "metadata": {},
     "output_type": "execute_result"
    }
   ],
   "source": [
    "db.test.count_documents({})"
   ]
  },
  {
   "cell_type": "code",
   "execution_count": 24,
   "id": "2f399935",
   "metadata": {},
   "outputs": [
    {
     "name": "stdout",
     "output_type": "stream",
     "text": [
      "getcwd: C:\\Users\\libas\\Desktop\\M2 Data Mining\\8-Big_Data_Management\\Projet_Datalake\n"
     ]
    }
   ],
   "source": [
    "print('getcwd:', os.getcwd())"
   ]
  },
  {
   "cell_type": "code",
   "execution_count": 30,
   "id": "ceb61114",
   "metadata": {},
   "outputs": [
    {
     "name": "stderr",
     "output_type": "stream",
     "text": [
      "'C:\\Program' n'est pas reconnu en tant que commande interne\n",
      "ou externe, un programme ex‚cutable ou un fichier de commandes.\n"
     ]
    }
   ],
   "source": [
    "!mongoimport --db cookbook --collection movies --file data_book.json"
   ]
  },
  {
   "cell_type": "code",
   "execution_count": null,
   "id": "f8c2a430",
   "metadata": {},
   "outputs": [],
   "source": []
  }
 ],
 "metadata": {
  "kernelspec": {
   "display_name": "Python 3 (ipykernel)",
   "language": "python",
   "name": "python3"
  },
  "language_info": {
   "codemirror_mode": {
    "name": "ipython",
    "version": 3
   },
   "file_extension": ".py",
   "mimetype": "text/x-python",
   "name": "python",
   "nbconvert_exporter": "python",
   "pygments_lexer": "ipython3",
   "version": "3.8.8"
  }
 },
 "nbformat": 4,
 "nbformat_minor": 5
}
