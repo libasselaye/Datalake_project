{
 "cells": [
  {
   "cell_type": "code",
   "execution_count": 22,
   "id": "56835ec2",
   "metadata": {},
   "outputs": [],
   "source": [
    "import os\n",
    "from bs4 import BeautifulSoup\n",
    "#Chargement du repertoire\n",
    "os.chdir(r'D:\\OneDrive\\Bureau\\COOKBOOK\\cookbook_xml')"
   ]
  },
  {
   "cell_type": "code",
   "execution_count": 23,
   "id": "fa338790",
   "metadata": {},
   "outputs": [],
   "source": [
    "directory = '.\\\\'\n",
    "\n",
    "livres_ch = []\n",
    "# iterate over files in\n",
    "# that directory\n",
    "for filename in os.listdir(directory):\n",
    "    f = os.path.join(directory, filename)\n",
    "    # checking if it is a file\n",
    "    if os.path.isfile(f):\n",
    "        livres_ch.append(f)"
   ]
  },
  {
   "cell_type": "code",
   "execution_count": 24,
   "id": "f55c4287",
   "metadata": {},
   "outputs": [],
   "source": [
    "newpath = '.\\\\rec_dos'\n",
    "if not os.path.exists(newpath):\n",
    "    os.makedirs(newpath)\n",
    "    \n",
    "newpath1 = '.\\\\tags_dos'\n",
    "if not os.path.exists(newpath1):\n",
    "    os.makedirs(newpath1)"
   ]
  },
  {
   "cell_type": "code",
   "execution_count": 28,
   "id": "ffb7da99",
   "metadata": {},
   "outputs": [
    {
     "name": "stdout",
     "output_type": "stream",
     "text": [
      "D:\\OneDrive\\Bureau\\COOKBOOK\\cookbook_xml\n"
     ]
    }
   ],
   "source": [
    "print(os.getcwd())"
   ]
  },
  {
   "cell_type": "code",
   "execution_count": 34,
   "id": "126533dc",
   "metadata": {},
   "outputs": [
    {
     "name": "stdout",
     "output_type": "stream",
     "text": [
      ".\\amem.xml\n"
     ]
    }
   ],
   "source": [
    "print(livres_ch[0])"
   ]
  },
  {
   "cell_type": "code",
   "execution_count": 52,
   "id": "98266e5d",
   "metadata": {},
   "outputs": [],
   "source": [
    "path_tag = os.path.dirname(\".\\tags_dos\") \n",
    "script_dir = \".\\\\\"\n",
    "\n",
    "for chemin in livres_ch :\n",
    "      \n",
    "    infile = open(chemin,\"r\")\n",
    "    \n",
    "    contents = infile.read()\n",
    "    \n",
    "    soup = BeautifulSoup(contents,'xml')\n",
    "    \n",
    "    tag = soup.cookbook\n",
    "    attribute = tag.attrs\n",
    "    \n",
    "    rel_path = \"tags_dos/\"+str(chemin)+\".txt\"\n",
    "    \n",
    "    abs_file_path = os.path.join(script_dir, rel_path)\n",
    "    \n",
    "    with open(abs_file_path,\"w+\") as f :\n",
    "    \n",
    "       f.write(str(attribute))"
   ]
  },
  {
   "cell_type": "code",
   "execution_count": 105,
   "id": "447fc243",
   "metadata": {},
   "outputs": [],
   "source": [
    "import json\n",
    "\n",
    "path_tag = os.path.dirname(\".\\tags_dos\") \n",
    "script_dir = \".\\\\\"\n",
    "\n",
    "list_dic = []\n",
    "\n",
    "for chemin in livres_ch :\n",
    "      \n",
    "    infile = open(chemin,\"r\")\n",
    "    \n",
    "    contents = infile.read()\n",
    "    \n",
    "    soup = BeautifulSoup(contents,'xml')\n",
    "    \n",
    "    tag = soup.cookbook\n",
    "    attribute = tag.attrs\n",
    "    \n",
    "    attribute.update({\"file_name\": str(chemin)})\n",
    "    list_dic.append(attribute)\n",
    "\n",
    "\n",
    "with open('meta_inter_data_book.json', 'w', encoding='utf-8') as f:\n",
    "    json.dump(list_dic, f, ensure_ascii=False, indent=4)"
   ]
  },
  {
   "cell_type": "code",
   "execution_count": 100,
   "id": "baf16b31",
   "metadata": {},
   "outputs": [],
   "source": [
    "path_rec = os.path.dirname(\".\\rec_dos\") \n",
    "script_dir = \".\\\\\"\n",
    "\n",
    "i = 0\n",
    "   \n",
    "for chemin in livres_ch :\n",
    "    infile = open(chemin,\"r\")\n",
    "    contents = infile.read()\n",
    "    soup = BeautifulSoup(contents,'xml')\n",
    "    tag = soup.cookbook\n",
    "    attribute = tag.attrs\n",
    "    recipes = soup.find_all('recipe')\n",
    "    if(i > 2800):\n",
    "        break\n",
    "    for recipe in recipes :\n",
    "        titre = recipe.find_all('purpose')[0].get_text()\n",
    "        titre = titre.replace('\"','')[0:10]\n",
    "        titre = titre.replace('\"','')\n",
    "        titre = titre.replace('>','')\n",
    "        titre = titre.replace('\\\\','')\n",
    "        \n",
    "        rel_path = \"rec_dos/\"+str(chemin)+\"_\"+titre+\".txt\"\n",
    "        abs_file_path = os.path.join(script_dir, rel_path)\n",
    "        recipe = recipe.get_text()\n",
    "\n",
    "        with open(abs_file_path,\"w+\") as f :\n",
    "            f.write(recipe)\n",
    "\n",
    "        i = i+1"
   ]
  },
  {
   "cell_type": "code",
   "execution_count": 101,
   "id": "4206df95",
   "metadata": {},
   "outputs": [],
   "source": [
    "path_rec = os.path.dirname(\".\\ing_dos\") \n",
    "script_dir = \".\\\\\"\n",
    "\n",
    "i = 0\n",
    "\n",
    "for chemin in livres_ch :      \n",
    "    infile = open(chemin,\"r\")\n",
    "    contents = infile.read()\n",
    "    soup = BeautifulSoup(contents,'xml')\n",
    "    tag = soup.cookbook\n",
    "    attribute = tag.attrs\n",
    "    recipes = soup.find_all('recipe')\n",
    "    \n",
    "    if(i > 2800):\n",
    "        break\n",
    "    \n",
    "    for recipe in recipes :\n",
    "        titre = recipe.find_all('purpose')[0].get_text()\n",
    "        titre = titre.replace('\"','')[0:10]\n",
    "        titre = titre.replace('\"','')\n",
    "        titre = titre.replace('>','')  \n",
    "        titre = titre.replace('\\\\','')\n",
    "        ingredient = recipe.find_all('ingredient')\n",
    "        ingredient = [ing.get_text() for ing in ingredient]\n",
    "        rel_path = \"ing_dos/\"+str(chemin)+\"_\"+titre+\".txt\"\n",
    "        abs_file_path = os.path.join(script_dir, rel_path)\n",
    "        recipe = recipe.get_text()\n",
    "    \n",
    "       with open(abs_file_path,\"w+\") as f :\n",
    "            f.write(str(ingredient))\n",
    "      \n",
    "       i = i+1"
   ]
  },
  {
   "cell_type": "code",
   "execution_count": null,
   "id": "cab959bd",
   "metadata": {},
   "outputs": [],
   "source": []
  }
 ],
 "metadata": {
  "kernelspec": {
   "display_name": "Python 3 (ipykernel)",
   "language": "python",
   "name": "python3"
  },
  "language_info": {
   "codemirror_mode": {
    "name": "ipython",
    "version": 3
   },
   "file_extension": ".py",
   "mimetype": "text/x-python",
   "name": "python",
   "nbconvert_exporter": "python",
   "pygments_lexer": "ipython3",
   "version": "3.8.8"
  }
 },
 "nbformat": 4,
 "nbformat_minor": 5
}
